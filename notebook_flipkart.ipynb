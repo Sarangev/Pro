{
 "cells": [
  {
   "cell_type": "code",
   "execution_count": 3,
   "metadata": {},
   "outputs": [],
   "source": [
    "import requests"
   ]
  },
  {
   "cell_type": "code",
   "execution_count": 6,
   "metadata": {},
   "outputs": [],
   "source": [
    "from bs4 import BeautifulSoup"
   ]
  },
  {
   "cell_type": "code",
   "execution_count": 1,
   "metadata": {},
   "outputs": [],
   "source": [
    "url = 'https://www.flipkart.com/search?q=condom&otracker=AS_Query_HistoryAutoSuggest_3_0&otracker1=AS_Query_HistoryAutoSuggest_3_0&marketplace=FLIPKART&as-show=on&as=off&as-pos=3&as-type=HISTORY'"
   ]
  },
  {
   "cell_type": "code",
   "execution_count": 4,
   "metadata": {},
   "outputs": [],
   "source": [
    "res = requests.get(url)"
   ]
  },
  {
   "cell_type": "code",
   "execution_count": 7,
   "metadata": {},
   "outputs": [],
   "source": [
    "soup = BeautifulSoup(res.content, 'html.parser')"
   ]
  },
  {
   "cell_type": "code",
   "execution_count": 8,
   "metadata": {},
   "outputs": [
    {
     "data": {
      "text/plain": [
       "[<a class=\"VJA3rP\" href=\"/bold-care-404-ultra-thin-chocolate-flavored-condoms-condom/p/itmf7861f4244b22?pid=CDMGD6M4JANZYDQC&amp;lid=LSTCDMGD6M4JANZYDQCZCRCGN&amp;marketplace=FLIPKART&amp;q=condom&amp;store=g9b%2Falu%2Ftdd&amp;srno=s_1_1&amp;otracker=AS_Query_HistoryAutoSuggest_3_0&amp;otracker1=AS_Query_HistoryAutoSuggest_3_0&amp;fm=organic&amp;iid=en_zmPiOe_5cKyT0uVSPg6YVZH7Soo0UwWpLB_8lK6axjfMBbCO5TUFWLjPRjPJvM7wq-tyYqU5UJXMl7zVnKzaZPUFjCTyOHoHZs-Z5_PS_w0%3D&amp;ppt=None&amp;ppn=None&amp;ssid=zik506jphc0000001713620041598&amp;qH=89e5e7292f993cc8\" rel=\"noopener noreferrer\" target=\"_blank\"><div><div><div class=\"_4WELSP\" style=\"height:280px;width:200px\"><img alt=\"Bold Care 404 Ultra Thin Chocolate Flavored Condoms Condom\" class=\"DByuf4\" loading=\"eager\" src=\"https://rukminim2.flixcart.com/image/612/612/xif0q/condom/n/5/j/10-single-product-404-ultra-thin-chocolate-flavored-condoms-1-original-imagyyt3fkhehenv.jpeg?q=70\"/></div></div></div><div class=\"oUss6M PbRKsR\"><div class=\"+7E521\"><svg class=\"N1bADF\" height=\"16\" viewbox=\"0 0 20 16\" width=\"16\" xmlns=\"http://www.w3.org/2000/svg\"><path class=\"x1UMqG\" d=\"M8.695 16.682C4.06 12.382 1 9.536 1 6.065 1 3.219 3.178 1 5.95 1c1.566 0 3.069.746 4.05 1.915C10.981 1.745 12.484 1 14.05 1 16.822 1 19 3.22 19 6.065c0 3.471-3.06 6.316-7.695 10.617L10 17.897l-1.305-1.215z\" fill=\"#2874F0\" fill-rule=\"evenodd\" opacity=\".9\" stroke=\"#FFF\"></path></svg></div></div></a>,\n",
       " <a class=\"wjcEIp\" href=\"/bold-care-404-ultra-thin-chocolate-flavored-condoms-condom/p/itmf7861f4244b22?pid=CDMGD6M4JANZYDQC&amp;lid=LSTCDMGD6M4JANZYDQCZCRCGN&amp;marketplace=FLIPKART&amp;q=condom&amp;store=g9b%2Falu%2Ftdd&amp;srno=s_1_1&amp;otracker=AS_Query_HistoryAutoSuggest_3_0&amp;otracker1=AS_Query_HistoryAutoSuggest_3_0&amp;fm=organic&amp;iid=en_zmPiOe_5cKyT0uVSPg6YVZH7Soo0UwWpLB_8lK6axjfMBbCO5TUFWLjPRjPJvM7wq-tyYqU5UJXMl7zVnKzaZPUFjCTyOHoHZs-Z5_PS_w0%3D&amp;ppt=None&amp;ppn=None&amp;ssid=zik506jphc0000001713620041598&amp;qH=89e5e7292f993cc8\" rel=\"noopener noreferrer\" target=\"_blank\" title=\"Bold Care 404 Ultra Thin Chocolate Flavored Condoms Condom\">Bold Care 404 Ultra Thin Chocolate Flavored Condoms Con...</a>,\n",
       " <a class=\"DMMoT0\" href=\"/bold-care-404-ultra-thin-chocolate-flavored-condoms-condom/p/itmf7861f4244b22?pid=CDMGD6M4JANZYDQC&amp;lid=LSTCDMGD6M4JANZYDQCZCRCGN&amp;marketplace=FLIPKART&amp;q=condom&amp;store=g9b%2Falu%2Ftdd&amp;srno=s_1_1&amp;otracker=AS_Query_HistoryAutoSuggest_3_0&amp;otracker1=AS_Query_HistoryAutoSuggest_3_0&amp;fm=organic&amp;iid=en_zmPiOe_5cKyT0uVSPg6YVZH7Soo0UwWpLB_8lK6axjfMBbCO5TUFWLjPRjPJvM7wq-tyYqU5UJXMl7zVnKzaZPUFjCTyOHoHZs-Z5_PS_w0%3D&amp;ppt=None&amp;ppn=None&amp;ssid=zik506jphc0000001713620041598&amp;qH=89e5e7292f993cc8\" rel=\"noopener noreferrer\" target=\"_blank\"><div class=\"hl05eU\"><div class=\"Nx9bqj\">₹99</div><div class=\"yRaY8j\">₹<!-- -->199</div><div class=\"UkUFwK\"><span>50% off</span></div></div><div class=\"k6cAZE wFAXB2\"><div><div class=\"yiggsN\" style=\"color:#000000;font-size:12px;font-weight:400\">Free delivery</div></div></div></a>,\n",
       " <a class=\"VJA3rP\" href=\"/bold-care-404-super-ultra-thin-bubblegum-flavored-condoms-men-condom/p/itmab70ecac446ab?pid=CDMGKJW5UVMWW3U9&amp;lid=LSTCDMGKJW5UVMWW3U9XYLTKP&amp;marketplace=FLIPKART&amp;q=condom&amp;store=g9b%2Falu%2Ftdd&amp;srno=s_1_2&amp;otracker=AS_Query_HistoryAutoSuggest_3_0&amp;otracker1=AS_Query_HistoryAutoSuggest_3_0&amp;fm=organic&amp;iid=en_zmPiOe_5cKyT0uVSPg6YVZH7Soo0UwWpLB_8lK6axjdUdFpHCFYQbI7Vhg3Gbvg3Xh2bG08O3G4tNRw5R4NjnfUFjCTyOHoHZs-Z5_PS_w0%3D&amp;ppt=None&amp;ppn=None&amp;ssid=zik506jphc0000001713620041598&amp;qH=89e5e7292f993cc8\" rel=\"noopener noreferrer\" target=\"_blank\"><div><div><div class=\"_4WELSP\" style=\"height:280px;width:200px\"><img alt=\"Bold Care 404 Super Ultra Thin Bubblegum Flavored Condoms For Men Condom\" class=\"DByuf4\" loading=\"eager\" src=\"https://rukminim2.flixcart.com/image/612/612/xif0q/condom/f/2/6/10-single-product-super-ultra-thin-bubblegum-flavored-condoms-original-imaghqbpyw8qtgfs.jpeg?q=70\"/></div></div></div><div class=\"oUss6M PbRKsR\"><div class=\"+7E521\"><svg class=\"N1bADF\" height=\"16\" viewbox=\"0 0 20 16\" width=\"16\" xmlns=\"http://www.w3.org/2000/svg\"><path class=\"x1UMqG\" d=\"M8.695 16.682C4.06 12.382 1 9.536 1 6.065 1 3.219 3.178 1 5.95 1c1.566 0 3.069.746 4.05 1.915C10.981 1.745 12.484 1 14.05 1 16.822 1 19 3.22 19 6.065c0 3.471-3.06 6.316-7.695 10.617L10 17.897l-1.305-1.215z\" fill=\"#2874F0\" fill-rule=\"evenodd\" opacity=\".9\" stroke=\"#FFF\"></path></svg></div></div></a>,\n",
       " <a class=\"wjcEIp\" href=\"/bold-care-404-super-ultra-thin-bubblegum-flavored-condoms-men-condom/p/itmab70ecac446ab?pid=CDMGKJW5UVMWW3U9&amp;lid=LSTCDMGKJW5UVMWW3U9XYLTKP&amp;marketplace=FLIPKART&amp;q=condom&amp;store=g9b%2Falu%2Ftdd&amp;srno=s_1_2&amp;otracker=AS_Query_HistoryAutoSuggest_3_0&amp;otracker1=AS_Query_HistoryAutoSuggest_3_0&amp;fm=organic&amp;iid=en_zmPiOe_5cKyT0uVSPg6YVZH7Soo0UwWpLB_8lK6axjdUdFpHCFYQbI7Vhg3Gbvg3Xh2bG08O3G4tNRw5R4NjnfUFjCTyOHoHZs-Z5_PS_w0%3D&amp;ppt=None&amp;ppn=None&amp;ssid=zik506jphc0000001713620041598&amp;qH=89e5e7292f993cc8\" rel=\"noopener noreferrer\" target=\"_blank\" title=\"Bold Care 404 Super Ultra Thin Bubblegum Flavored Condoms For Men Condom\">Bold Care 404 Super Ultra Thin Bubblegum Flavored Condo...</a>,\n",
       " <a class=\"DMMoT0\" href=\"/bold-care-404-super-ultra-thin-bubblegum-flavored-condoms-men-condom/p/itmab70ecac446ab?pid=CDMGKJW5UVMWW3U9&amp;lid=LSTCDMGKJW5UVMWW3U9XYLTKP&amp;marketplace=FLIPKART&amp;q=condom&amp;store=g9b%2Falu%2Ftdd&amp;srno=s_1_2&amp;otracker=AS_Query_HistoryAutoSuggest_3_0&amp;otracker1=AS_Query_HistoryAutoSuggest_3_0&amp;fm=organic&amp;iid=en_zmPiOe_5cKyT0uVSPg6YVZH7Soo0UwWpLB_8lK6axjdUdFpHCFYQbI7Vhg3Gbvg3Xh2bG08O3G4tNRw5R4NjnfUFjCTyOHoHZs-Z5_PS_w0%3D&amp;ppt=None&amp;ppn=None&amp;ssid=zik506jphc0000001713620041598&amp;qH=89e5e7292f993cc8\" rel=\"noopener noreferrer\" target=\"_blank\"><div class=\"hl05eU\"><div class=\"Nx9bqj\">₹99</div><div class=\"yRaY8j\">₹<!-- -->199</div><div class=\"UkUFwK\"><span>50% off</span></div></div><div class=\"k6cAZE wFAXB2\"><div><div class=\"yiggsN\" style=\"color:#000000;font-size:12px;font-weight:400\">Free delivery</div></div></div></a>,\n",
       " <a class=\"VJA3rP\" href=\"/bold-care-ultra-thin-climax-delay-lubricated-natural-latex-condom/p/itmf14b3beaacdae?pid=CDMGJGHHRD8BK2EA&amp;lid=LSTCDMGJGHHRD8BK2EAEGBKRT&amp;marketplace=FLIPKART&amp;q=condom&amp;store=g9b%2Falu%2Ftdd&amp;srno=s_1_3&amp;otracker=AS_Query_HistoryAutoSuggest_3_0&amp;otracker1=AS_Query_HistoryAutoSuggest_3_0&amp;fm=organic&amp;iid=ba591fd0-d450-46ae-b6a2-8e11e821ac26.CDMGJGHHRD8BK2EA.SEARCH&amp;ppt=None&amp;ppn=None&amp;ssid=zik506jphc0000001713620041598&amp;qH=89e5e7292f993cc8\" rel=\"noopener noreferrer\" target=\"_blank\"><div><div><div class=\"_4WELSP\" style=\"height:280px;width:200px\"><img alt=\"Bold Care Ultra Thin Climax Delay - Lubricated - Natural Latex Condom\" class=\"DByuf4\" loading=\"eager\" src=\"https://rukminim2.flixcart.com/image/612/612/xif0q/condom/m/l/t/20-single-product-ultra-thin-long-last-condoms-pack-of-20-original-imagjgg4hqkhwkme.jpeg?q=70\"/></div></div></div><div class=\"oUss6M PbRKsR\"><div class=\"+7E521\"><svg class=\"N1bADF\" height=\"16\" viewbox=\"0 0 20 16\" width=\"16\" xmlns=\"http://www.w3.org/2000/svg\"><path class=\"x1UMqG\" d=\"M8.695 16.682C4.06 12.382 1 9.536 1 6.065 1 3.219 3.178 1 5.95 1c1.566 0 3.069.746 4.05 1.915C10.981 1.745 12.484 1 14.05 1 16.822 1 19 3.22 19 6.065c0 3.471-3.06 6.316-7.695 10.617L10 17.897l-1.305-1.215z\" fill=\"#2874F0\" fill-rule=\"evenodd\" opacity=\".9\" stroke=\"#FFF\"></path></svg></div></div></a>,\n",
       " <a class=\"wjcEIp\" href=\"/bold-care-ultra-thin-climax-delay-lubricated-natural-latex-condom/p/itmf14b3beaacdae?pid=CDMGJGHHRD8BK2EA&amp;lid=LSTCDMGJGHHRD8BK2EAEGBKRT&amp;marketplace=FLIPKART&amp;q=condom&amp;store=g9b%2Falu%2Ftdd&amp;srno=s_1_3&amp;otracker=AS_Query_HistoryAutoSuggest_3_0&amp;otracker1=AS_Query_HistoryAutoSuggest_3_0&amp;fm=organic&amp;iid=ba591fd0-d450-46ae-b6a2-8e11e821ac26.CDMGJGHHRD8BK2EA.SEARCH&amp;ppt=None&amp;ppn=None&amp;ssid=zik506jphc0000001713620041598&amp;qH=89e5e7292f993cc8\" rel=\"noopener noreferrer\" target=\"_blank\" title=\"Bold Care Ultra Thin Climax Delay - Lubricated - Natural Latex Condom\">Bold Care Ultra Thin Climax Delay - Lubricated - Natura...</a>,\n",
       " <a class=\"DMMoT0\" href=\"/bold-care-ultra-thin-climax-delay-lubricated-natural-latex-condom/p/itmf14b3beaacdae?pid=CDMGJGHHRD8BK2EA&amp;lid=LSTCDMGJGHHRD8BK2EAEGBKRT&amp;marketplace=FLIPKART&amp;q=condom&amp;store=g9b%2Falu%2Ftdd&amp;srno=s_1_3&amp;otracker=AS_Query_HistoryAutoSuggest_3_0&amp;otracker1=AS_Query_HistoryAutoSuggest_3_0&amp;fm=organic&amp;iid=ba591fd0-d450-46ae-b6a2-8e11e821ac26.CDMGJGHHRD8BK2EA.SEARCH&amp;ppt=None&amp;ppn=None&amp;ssid=zik506jphc0000001713620041598&amp;qH=89e5e7292f993cc8\" rel=\"noopener noreferrer\" target=\"_blank\"><div class=\"hl05eU\"><div class=\"Nx9bqj\">₹249</div><div class=\"yRaY8j\">₹<!-- -->600</div><div class=\"UkUFwK\"><span>58% off</span></div></div><div class=\"k6cAZE wFAXB2\"><div><div class=\"yiggsN\" style=\"color:#000000;font-size:12px;font-weight:400\">Free delivery</div></div></div></a>,\n",
       " <a class=\"VJA3rP\" href=\"/bold-care-404-ultra-thin-chocolate-flavored-condoms-condom/p/itmf7861f4244b22?pid=CDMGFKVRJGZTDEFC&amp;lid=LSTCDMGFKVRJGZTDEFC18SAGP&amp;marketplace=FLIPKART&amp;q=condom&amp;store=g9b%2Falu%2Ftdd&amp;srno=s_1_4&amp;otracker=AS_Query_HistoryAutoSuggest_3_0&amp;otracker1=AS_Query_HistoryAutoSuggest_3_0&amp;fm=organic&amp;iid=ba591fd0-d450-46ae-b6a2-8e11e821ac26.CDMGFKVRJGZTDEFC.SEARCH&amp;ppt=None&amp;ppn=None&amp;ssid=zik506jphc0000001713620041598&amp;qH=89e5e7292f993cc8\" rel=\"noopener noreferrer\" target=\"_blank\"><div><div><div class=\"_4WELSP\" style=\"height:280px;width:200px\"><img alt=\"Bold Care 404 Ultra Thin Chocolate Flavored Condoms Condom\" class=\"DByuf4\" loading=\"eager\" src=\"https://rukminim2.flixcart.com/image/612/612/xif0q/condom/v/d/g/-original-imagnfehy3ewyzzt.jpeg?q=70\"/></div></div></div><div class=\"oUss6M PbRKsR\"><div class=\"+7E521\"><svg class=\"N1bADF\" height=\"16\" viewbox=\"0 0 20 16\" width=\"16\" xmlns=\"http://www.w3.org/2000/svg\"><path class=\"x1UMqG\" d=\"M8.695 16.682C4.06 12.382 1 9.536 1 6.065 1 3.219 3.178 1 5.95 1c1.566 0 3.069.746 4.05 1.915C10.981 1.745 12.484 1 14.05 1 16.822 1 19 3.22 19 6.065c0 3.471-3.06 6.316-7.695 10.617L10 17.897l-1.305-1.215z\" fill=\"#2874F0\" fill-rule=\"evenodd\" opacity=\".9\" stroke=\"#FFF\"></path></svg></div></div></a>]"
      ]
     },
     "execution_count": 8,
     "metadata": {},
     "output_type": "execute_result"
    }
   ],
   "source": [
    "soup.find_all('a', rel=\"noopener\")[:10]"
   ]
  },
  {
   "cell_type": "code",
   "execution_count": null,
   "metadata": {},
   "outputs": [],
   "source": []
  }
 ],
 "metadata": {
  "kernelspec": {
   "display_name": ".env",
   "language": "python",
   "name": "python3"
  },
  "language_info": {
   "codemirror_mode": {
    "name": "ipython",
    "version": 3
   },
   "file_extension": ".py",
   "mimetype": "text/x-python",
   "name": "python",
   "nbconvert_exporter": "python",
   "pygments_lexer": "ipython3",
   "version": "3.12.2"
  }
 },
 "nbformat": 4,
 "nbformat_minor": 2
}
